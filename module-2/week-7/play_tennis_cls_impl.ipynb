{
  "nbformat": 4,
  "nbformat_minor": 0,
  "metadata": {
    "colab": {
      "provenance": []
    },
    "kernelspec": {
      "name": "python3",
      "display_name": "Python 3"
    },
    "language_info": {
      "name": "python"
    }
  },
  "cells": [
    {
      "cell_type": "code",
      "source": [
        "import numpy as np\n",
        "def create_train_data():\n",
        "  data = [\n",
        "        ['Sunny', 'Hot', 'High', 'Weak', 'no'],\n",
        "        ['Sunny', 'Hot', 'High', 'Strong', 'no'],\n",
        "        ['Overcast', 'Hot', 'High', 'Weak', 'yes'],\n",
        "        ['Rain', 'Mild', 'High', 'Weak', 'yes'],\n",
        "        ['Rain', 'Cool', 'Normal', 'Weak', 'yes'],\n",
        "        ['Rain', 'Cool', 'Normal', 'Strong', 'no'],\n",
        "        ['Overcast', 'Cool', 'Normal', 'Strong', 'yes'],\n",
        "        ['Overcast', 'Mild', 'High', 'Weak', 'no'],\n",
        "        ['Sunny', 'Cool', 'Normal', 'Weak', 'yes'],\n",
        "        ['Rain', 'Mild', 'Normal', 'Weak', 'yes']\n",
        "    ]\n",
        "  return np.array(data)\n",
        "\n",
        "train_data = create_train_data()\n",
        "print(train_data)"
      ],
      "metadata": {
        "colab": {
          "base_uri": "https://localhost:8080/"
        },
        "id": "-kZfkTZlfUEm",
        "outputId": "a8142a76-65de-489e-f22e-d2ccd55f9d5e"
      },
      "execution_count": 17,
      "outputs": [
        {
          "output_type": "stream",
          "name": "stdout",
          "text": [
            "[['Sunny' 'Hot' 'High' 'Weak' 'no']\n",
            " ['Sunny' 'Hot' 'High' 'Strong' 'no']\n",
            " ['Overcast' 'Hot' 'High' 'Weak' 'yes']\n",
            " ['Rain' 'Mild' 'High' 'Weak' 'yes']\n",
            " ['Rain' 'Cool' 'Normal' 'Weak' 'yes']\n",
            " ['Rain' 'Cool' 'Normal' 'Strong' 'no']\n",
            " ['Overcast' 'Cool' 'Normal' 'Strong' 'yes']\n",
            " ['Overcast' 'Mild' 'High' 'Weak' 'no']\n",
            " ['Sunny' 'Cool' 'Normal' 'Weak' 'yes']\n",
            " ['Rain' 'Mild' 'Normal' 'Weak' 'yes']]\n"
          ]
        }
      ]
    },
    {
      "cell_type": "code",
      "source": [
        "def compute_prior_probablity(train_data):\n",
        "    y_unique = ['no', 'yes']\n",
        "    prior_probability = np.zeros(len(y_unique))\n",
        "    for i in range(len(y_unique)):\n",
        "        prior_probability[i] = np.sum(train_data[:, -1] == y_unique[i]) / len(train_data)\n",
        "    return prior_probability\n",
        "\n",
        "prior_probablity = compute_prior_probablity(train_data)\n",
        "print(\"P(play tennis = No):\", prior_probablity[0])\n",
        "print(\"P(play tennis = Yes):\", prior_probablity[1])"
      ],
      "metadata": {
        "colab": {
          "base_uri": "https://localhost:8080/"
        },
        "id": "i3myamlshNZm",
        "outputId": "7b686f25-38c5-45f7-c725-4fe54ab07821"
      },
      "execution_count": 18,
      "outputs": [
        {
          "output_type": "stream",
          "name": "stdout",
          "text": [
            "P(play tennis = No): 0.4\n",
            "P(play tennis = Yes): 0.6\n"
          ]
        }
      ]
    },
    {
      "cell_type": "code",
      "source": [
        "import numpy as np\n",
        "\n",
        "def compute_conditional_probability(train_data):\n",
        "    y_unique = ['no', 'yes']\n",
        "    conditional_probability = []\n",
        "    list_x_name = []\n",
        "\n",
        "    for i in range(train_data.shape[1] - 1):\n",
        "        x_unique = np.unique(train_data[:, i])\n",
        "        list_x_name.append(x_unique)\n",
        "\n",
        "        # Calculate conditional probabilities\n",
        "        x_conditional_probability = np.zeros((2, len(x_unique)))\n",
        "        for j in range(len(y_unique)):\n",
        "            for k in range(len(x_unique)):\n",
        "                count_x_y = np.sum((train_data[:, i] == x_unique[k]) & (train_data[:, -1] == y_unique[j]))\n",
        "                count_y = np.sum(train_data[:, -1] == y_unique[j])\n",
        "                x_conditional_probability[j, k] = count_x_y / count_y\n",
        "\n",
        "        conditional_probability.append(x_conditional_probability) # Append the calculated probabilities\n",
        "\n",
        "    return conditional_probability, list_x_name\n",
        "\n",
        "# Example usage (assuming train_data is defined elsewhere)\n",
        "conditional_prob, feature_names = compute_conditional_probability(train_data)\n",
        "print(\"Conditional probabilities:\", conditional_prob)\n",
        "print(\"Feature names:\", feature_names)"
      ],
      "metadata": {
        "id": "W9sehHtohtVI",
        "colab": {
          "base_uri": "https://localhost:8080/"
        },
        "outputId": "80738c1d-59e0-4de5-88e2-6bece1058aa9"
      },
      "execution_count": 19,
      "outputs": [
        {
          "output_type": "stream",
          "name": "stdout",
          "text": [
            "Conditional probabilities: [array([[0.25      , 0.25      , 0.5       ],\n",
            "       [0.33333333, 0.5       , 0.16666667]]), array([[0.25      , 0.5       , 0.25      ],\n",
            "       [0.5       , 0.16666667, 0.33333333]]), array([[0.75      , 0.25      ],\n",
            "       [0.33333333, 0.66666667]]), array([[0.5       , 0.5       ],\n",
            "       [0.16666667, 0.83333333]])]\n",
            "Feature names: [array(['Overcast', 'Rain', 'Sunny'], dtype='<U8'), array(['Cool', 'Hot', 'Mild'], dtype='<U8'), array(['High', 'Normal'], dtype='<U8'), array(['Strong', 'Weak'], dtype='<U8')]\n"
          ]
        }
      ]
    },
    {
      "cell_type": "code",
      "source": [
        "train_data = create_train_data()\n",
        "\n",
        "_, list_x_name = compute_conditional_probability(train_data)\n",
        "\n",
        "print(\"x1 = \", list_x_name[0])\n",
        "print(\"x2 = \", list_x_name[1])\n",
        "print(\"x3 = \", list_x_name[2])\n",
        "print(\"x4 = \", list_x_name[3])"
      ],
      "metadata": {
        "id": "S2TKxtAshvH5",
        "colab": {
          "base_uri": "https://localhost:8080/"
        },
        "outputId": "f424ff74-025e-43e3-ab5d-ff0e80e67d49"
      },
      "execution_count": 20,
      "outputs": [
        {
          "output_type": "stream",
          "name": "stdout",
          "text": [
            "x1 =  ['Overcast' 'Rain' 'Sunny']\n",
            "x2 =  ['Cool' 'Hot' 'Mild']\n",
            "x3 =  ['High' 'Normal']\n",
            "x4 =  ['Strong' 'Weak']\n"
          ]
        }
      ]
    },
    {
      "cell_type": "code",
      "source": [
        "#This function is used to return the index of the feature name\n",
        "def get_index_from_value(feature_name, list_features):\n",
        "  return np.where(list_features == feature_name)[0][0]"
      ],
      "metadata": {
        "id": "uUCgwx36hvjK"
      },
      "execution_count": 21,
      "outputs": []
    },
    {
      "cell_type": "code",
      "source": [
        "train_data = create_train_data()\n",
        "\n",
        "_, list_x_name = compute_conditional_probability(train_data)\n",
        "\n",
        "outlook = list_x_name[0]\n",
        "\n",
        "i1 = get_index_from_value(\"Overcast\", outlook)\n",
        "i2 = get_index_from_value(\"Rain\", outlook)\n",
        "i3 = get_index_from_value(\"Sunny\", outlook)\n",
        "\n",
        "print(i1, i2, i3)"
      ],
      "metadata": {
        "id": "myS0YYOOhxEJ",
        "colab": {
          "base_uri": "https://localhost:8080/"
        },
        "outputId": "0eed6a4c-f5c5-4ee6-92ee-d62a589fd564"
      },
      "execution_count": 22,
      "outputs": [
        {
          "output_type": "stream",
          "name": "stdout",
          "text": [
            "0 1 2\n"
          ]
        }
      ]
    },
    {
      "cell_type": "code",
      "source": [
        "# Assuming the required functions and imports are defined elsewhere in the code\n",
        "train_data = create_train_data()\n",
        "conditional_probability, list_x_name = compute_conditional_probability(train_data)\n",
        "\n",
        "# Compute and print the probability for \"Play Tennis\" = \"No\"\n",
        "x1 = get_index_from_value(\"Sunny\", list_x_name[0])\n",
        "print(\"P('Outlook'='Sunny'|Play Tennis'='No') = \", np.round(conditional_probability[0][0, x1], 2))\n",
        "\n",
        "# Compute and print the probability for \"Play Tennis\" = \"Yes\"\n",
        "print(\"P('Outlook'='Sunny'|Play Tennis'='Yes') = \", np.round(conditional_probability[0][1, x1], 2))"
      ],
      "metadata": {
        "colab": {
          "base_uri": "https://localhost:8080/"
        },
        "id": "W_eJ1oLbi3Zi",
        "outputId": "d0ef62b6-5b0c-4559-8d7e-ba17b6e1506a"
      },
      "execution_count": 28,
      "outputs": [
        {
          "output_type": "stream",
          "name": "stdout",
          "text": [
            "P('Outlook'='Sunny'|Play Tennis'='No') =  0.5\n",
            "P('Outlook'='Sunny'|Play Tennis'='Yes') =  0.17\n"
          ]
        }
      ]
    },
    {
      "cell_type": "code",
      "source": [
        "###########################\n",
        "# Train Naive Bayes Model\n",
        "###########################\n",
        "def train_naive_bayes(train_data):\n",
        "    # Step 1: Calculate Prior Probability\n",
        "    y_unique = ['no', 'yes']\n",
        "    prior_probability = compute_prior_probablity(train_data)\n",
        "\n",
        "    # Step 2: Calculate Conditional Probability\n",
        "    conditional_probability, list_x_name = compute_conditional_probability(train_data)\n",
        "\n",
        "    return prior_probability, conditional_probability, list_x_name"
      ],
      "metadata": {
        "id": "egkYyXl8i3jD"
      },
      "execution_count": 25,
      "outputs": []
    },
    {
      "cell_type": "code",
      "source": [
        "####################\n",
        "# Prediction\n",
        "####################\n",
        "def prediction_play_tennis(X, list_x_name, prior_probability, conditional_probability):\n",
        "    x1 = get_index_from_value(X[0], list_x_name[0])\n",
        "    x2 = get_index_from_value(X[1], list_x_name[1])\n",
        "    x3 = get_index_from_value(X[2], list_x_name[2])\n",
        "    x4 = get_index_from_value(X[3], list_x_name[3])\n",
        "\n",
        "    p0 = prior_probability[0]\n",
        "    p1 = prior_probability[1]\n",
        "\n",
        "    p0 *= (conditional_probability[0][0, x1] * conditional_probability[1][0, x2] * conditional_probability[2][0, x3] * conditional_probability[3][0, x4])\n",
        "\n",
        "    p1 *= (conditional_probability[0][1, x1] * conditional_probability[1][1, x2] * conditional_probability[2][1, x3] * conditional_probability[3][1, x4])\n",
        "\n",
        "    if p0 > p1:\n",
        "        y_pred = 0\n",
        "    else:\n",
        "        y_pred = 1\n",
        "\n",
        "    return y_pred"
      ],
      "metadata": {
        "id": "bk7sr0Eui3mb"
      },
      "execution_count": 26,
      "outputs": []
    },
    {
      "cell_type": "code",
      "source": [
        "X = ['Sunny', 'Cool', 'High', 'Strong']\n",
        "data = create_train_data()\n",
        "prior_probability, conditional_probability, list_x_name = train_naive_bayes(data)\n",
        "pred = prediction_play_tennis(X, list_x_name, prior_probability, conditional_probability)\n",
        "\n",
        "if pred:\n",
        "    print(\"Ad should go!\")\n",
        "else:\n",
        "    print(\"Ad should not go!\")"
      ],
      "metadata": {
        "colab": {
          "base_uri": "https://localhost:8080/"
        },
        "id": "xzdLF6r5i3pM",
        "outputId": "9b679c8c-fb32-4b6b-9953-809015b86cda"
      },
      "execution_count": 27,
      "outputs": [
        {
          "output_type": "stream",
          "name": "stdout",
          "text": [
            "Ad should not go!\n"
          ]
        }
      ]
    }
  ]
}