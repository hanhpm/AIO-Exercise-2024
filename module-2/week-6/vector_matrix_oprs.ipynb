{
  "nbformat": 4,
  "nbformat_minor": 0,
  "metadata": {
    "colab": {
      "provenance": []
    },
    "kernelspec": {
      "name": "python3",
      "display_name": "Python 3"
    },
    "language_info": {
      "name": "python"
    }
  },
  "cells": [
    {
      "cell_type": "code",
      "execution_count": 1,
      "metadata": {
        "id": "D8wQ9uFS11pb",
        "colab": {
          "base_uri": "https://localhost:8080/"
        },
        "outputId": "5ed37867-510b-4f74-ca54-b03e69f8b2ea"
      },
      "outputs": [
        {
          "output_type": "stream",
          "name": "stdout",
          "text": [
            "23.28\n"
          ]
        }
      ],
      "source": [
        "# The lenghth of vector\n",
        "import numpy as np\n",
        "def compute_vector_length(vector):\n",
        "  len_of_vector = np.linalg.norm(vector)\n",
        "  return len_of_vector\n",
        "\n",
        "vector = np.array([-2, 4, 9, 21])\n",
        "result = compute_vector_length([vector])\n",
        "print(round(result,2))\n",
        "# D"
      ]
    },
    {
      "cell_type": "code",
      "source": [
        "# The dot of product\n",
        "import numpy as np\n",
        "def compute_dot_product(u, v):\n",
        "  dot_product = np.dot(u, v)\n",
        "  return dot_product\n",
        "\n",
        "v1 = np.array([0, 1,-1, 2])\n",
        "v2 = np.array([2, 5, 1, 0])\n",
        "result = compute_dot_product(v1, v2)\n",
        "print(round(result,2))\n",
        "# B"
      ],
      "metadata": {
        "id": "e_ZgP_Oi6gsX",
        "colab": {
          "base_uri": "https://localhost:8080/"
        },
        "outputId": "d933a8d6-fc8f-4211-a2f8-e5ca2ddd01f9"
      },
      "execution_count": 2,
      "outputs": [
        {
          "output_type": "stream",
          "name": "stdout",
          "text": [
            "4\n"
          ]
        }
      ]
    },
    {
      "cell_type": "code",
      "source": [
        "# The multiplication of matrix and vector\n",
        "import numpy as np\n",
        "def compute_matrix_vector_product(matrix, vector):\n",
        "  matrix_vector_product = np.dot(matrix, vector)\n",
        "  return matrix_vector_product\n",
        "\n",
        "x = np.array([[1, 2], [3, 4]])\n",
        "k = np.array([1, 2])\n",
        "print('result \\n', x.dot(k))\n",
        "# A\n",
        "\n",
        "a = np.array([[-1, 2],[3, -4]])\n",
        "b = np.array([1, 2])\n",
        "print('result \\n', a @ b)\n",
        "# B\n",
        "\n",
        "m = np.array([[-1, 1, 1], [0,-4, 9]])\n",
        "v = np.array([0, 2, 1])\n",
        "result = compute_matrix_vector_product(m, v)\n",
        "print('result \\n',result)\n",
        "# A"
      ],
      "metadata": {
        "id": "Fask3-RR6wg4",
        "colab": {
          "base_uri": "https://localhost:8080/"
        },
        "outputId": "d37f773a-105c-4433-a23a-4598bb23660d"
      },
      "execution_count": 6,
      "outputs": [
        {
          "output_type": "stream",
          "name": "stdout",
          "text": [
            "result \n",
            " [ 5 11]\n",
            "result \n",
            " [ 3 -5]\n",
            "result \n",
            " [3 1]\n"
          ]
        }
      ]
    },
    {
      "cell_type": "code",
      "source": [
        "import numpy as np\n",
        "\n",
        "def compute_matrix_matrix_product(matrix1, matrix2):\n",
        "    matrix_matrix_product = np.dot(matrix1, matrix2)\n",
        "    return matrix_matrix_product\n",
        "\n",
        "# First matrix multiplication\n",
        "m1 = np.array([[0, 1, 2],\n",
        "               [2, -3, 1]])\n",
        "m2 = np.array([[1, -3],\n",
        "               [6, 1],\n",
        "               [0, -1]])\n",
        "\n",
        "result = compute_matrix_matrix_product(m1, m2)\n",
        "print(\"First result:\\n\", result)\n",
        "# C\n",
        "\n",
        "# Second matrix multiplication\n",
        "m3 = np.eye(3)\n",
        "m4 = np.array([[1, 1, 1],\n",
        "               [2, 2, 2],\n",
        "               [3, 3, 3]])\n",
        "\n",
        "result = m3 @ m4\n",
        "print(\"Second result:\\n\", result)\n",
        "# A\n",
        "\n",
        "# Third matrix multiplication\n",
        "m5 = np.eye(2)\n",
        "m5 = np.reshape(m5, (-1, 4))[0]\n",
        "m6 = np.array([[1, 1, 1, 1],\n",
        "               [2, 2, 2, 2],\n",
        "               [3, 3, 3, 3],\n",
        "               [4, 4, 4, 4]])\n",
        "\n",
        "result = m5 @ m6\n",
        "print(\"Third result:\\n\", result)\n",
        "# D\n",
        "\n",
        "# Fourth matrix multiplication\n",
        "m7 = np.array([[1, 2],\n",
        "               [3, 4]])\n",
        "m7 = np.reshape(m7, (-1, 4), order='F')[0]\n",
        "m8 = np.array([[1, 1, 1, 1],\n",
        "               [2, 2, 2, 2],\n",
        "               [3, 3, 3, 3],\n",
        "               [4, 4, 4, 4]])\n",
        "\n",
        "result = m7 @ m8\n",
        "print(\"Fourth result:\\n\", result)\n",
        "# B"
      ],
      "metadata": {
        "id": "hk-S9oZ561gq",
        "colab": {
          "base_uri": "https://localhost:8080/"
        },
        "outputId": "f9eb9f59-b733-4f79-ab67-e0483e6644ea"
      },
      "execution_count": 9,
      "outputs": [
        {
          "output_type": "stream",
          "name": "stdout",
          "text": [
            "First result:\n",
            " [[  6  -1]\n",
            " [-16 -10]]\n",
            "Second result:\n",
            " [[1. 1. 1.]\n",
            " [2. 2. 2.]\n",
            " [3. 3. 3.]]\n",
            "Third result:\n",
            " [5. 5. 5. 5.]\n",
            "Fourth result:\n",
            " [29 29 29 29]\n"
          ]
        }
      ]
    },
    {
      "cell_type": "code",
      "source": [
        "# The reversal matrix\n",
        "import numpy as np\n",
        "def compute_matrix_reversal(matrix):\n",
        "  matrix_reversal = np.linalg.inv(matrix)\n",
        "  return matrix_reversal\n",
        "\n",
        "m1 = np.array([[-2, 6], [8,-4]])\n",
        "result = compute_matrix_reversal(m1)\n",
        "print(result)\n",
        "# A"
      ],
      "metadata": {
        "id": "Pz2azJgo7pu-",
        "colab": {
          "base_uri": "https://localhost:8080/"
        },
        "outputId": "c123ccfe-7362-4ed7-f9e1-c29d1f56bf0a"
      },
      "execution_count": 10,
      "outputs": [
        {
          "output_type": "stream",
          "name": "stdout",
          "text": [
            "[[0.1  0.15]\n",
            " [0.2  0.05]]\n"
          ]
        }
      ]
    }
  ]
}