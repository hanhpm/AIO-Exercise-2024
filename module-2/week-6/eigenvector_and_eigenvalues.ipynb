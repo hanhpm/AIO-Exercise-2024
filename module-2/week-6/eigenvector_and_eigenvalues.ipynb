{
  "nbformat": 4,
  "nbformat_minor": 0,
  "metadata": {
    "colab": {
      "provenance": []
    },
    "kernelspec": {
      "name": "python3",
      "display_name": "Python 3"
    },
    "language_info": {
      "name": "python"
    }
  },
  "cells": [
    {
      "cell_type": "code",
      "execution_count": null,
      "metadata": {
        "colab": {
          "base_uri": "https://localhost:8080/"
        },
        "id": "2Q9z1G798DrB",
        "outputId": "983f76ab-514b-4d00-d371-50368a7a6cbb"
      },
      "outputs": [
        {
          "output_type": "stream",
          "name": "stdout",
          "text": [
            "[1.  0.7]\n",
            "[[ 0.89442719 -0.70710678]\n",
            " [ 0.4472136   0.70710678]]\n"
          ]
        }
      ],
      "source": [
        "import numpy as np\n",
        "\n",
        "def compute_eigenvalues_eigenvectors(matrix):\n",
        "    eigenvalues, eigenvectors = np.linalg.eig(matrix)\n",
        "    return eigenvalues, eigenvectors\n",
        "\n",
        "A = np.array([[0.9, 0.2],\n",
        "              [0.1, 0.8]])\n",
        "\n",
        "eigenvalues, eigenvectors = compute_eigenvalues_eigenvectors(A)\n",
        "print(eigenvalues)\n",
        "print(eigenvectors)\n",
        "# A\n"
      ]
    }
  ]
}