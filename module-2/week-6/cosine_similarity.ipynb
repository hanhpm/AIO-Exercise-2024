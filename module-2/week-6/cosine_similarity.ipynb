{
  "nbformat": 4,
  "nbformat_minor": 0,
  "metadata": {
    "colab": {
      "provenance": []
    },
    "kernelspec": {
      "name": "python3",
      "display_name": "Python 3"
    },
    "language_info": {
      "name": "python"
    }
  },
  "cells": [
    {
      "cell_type": "code",
      "execution_count": null,
      "metadata": {
        "id": "u46ze8u-NIOK",
        "colab": {
          "base_uri": "https://localhost:8080/"
        },
        "outputId": "98d98590-2fd8-4748-a920-5c47653bf20a"
      },
      "outputs": [
        {
          "output_type": "stream",
          "name": "stdout",
          "text": [
            "0.5773502691896257\n"
          ]
        }
      ],
      "source": [
        "import numpy as np\n",
        "\n",
        "def compute_cosine(v1, v2):\n",
        "    cos_sim = np.dot(v1, v2) / (np.linalg.norm(v1) * np.linalg.norm(v2))\n",
        "    return cos_sim\n",
        "\n",
        "v1 = np.array([1, 2, 3, 4])\n",
        "v2 = np.array([1, 0, 3, 0])\n",
        "print(compute_cosine(v1, v2))\n",
        "# C"
      ]
    }
  ]
}