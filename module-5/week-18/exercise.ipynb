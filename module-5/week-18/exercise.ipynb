{
  "nbformat": 4,
  "nbformat_minor": 0,
  "metadata": {
    "colab": {
      "provenance": [],
      "gpuType": "T4"
    },
    "kernelspec": {
      "name": "python3",
      "display_name": "Python 3"
    },
    "language_info": {
      "name": "python"
    },
    "accelerator": "GPU"
  },
  "cells": [
    {
      "cell_type": "code",
      "execution_count": 1,
      "metadata": {
        "id": "LeJlhDCuigaS"
      },
      "outputs": [],
      "source": [
        "import numpy as np"
      ]
    },
    {
      "cell_type": "code",
      "source": [
        "y_hat = np.array([0.4, 0.15, 0.05, 0.4])\n",
        "y_true = np.array([1, 0, 0, 0])\n",
        "cross_entropy_loss = -np.sum(y_true * np.log(y_hat))\n",
        "cross_entropy_loss_rounded = round(cross_entropy_loss, 3)\n",
        "\n",
        "print(cross_entropy_loss_rounded)"
      ],
      "metadata": {
        "colab": {
          "base_uri": "https://localhost:8080/"
        },
        "id": "KgdEZnbqjdaF",
        "outputId": "9f7ebe6b-c2eb-486d-c519-2efefeff2dfd"
      },
      "execution_count": 2,
      "outputs": [
        {
          "output_type": "stream",
          "name": "stdout",
          "text": [
            "0.916\n"
          ]
        }
      ]
    },
    {
      "cell_type": "code",
      "source": [
        "Z = np.array([-1, -2, 3, 2])\n",
        "exp_Z = np.exp(Z - np.max(Z))  # subtract max for numerical stability\n",
        "softmax_Z = exp_Z / exp_Z.sum()\n",
        "softmax_Z_rounded = np.round(softmax_Z, 3)\n",
        "\n",
        "print(softmax_Z_rounded)"
      ],
      "metadata": {
        "colab": {
          "base_uri": "https://localhost:8080/"
        },
        "id": "xVBwa6JQjfb-",
        "outputId": "89cbf97e-e3d7-4a84-98bb-6e34990a6a80"
      },
      "execution_count": 3,
      "outputs": [
        {
          "output_type": "stream",
          "name": "stdout",
          "text": [
            "[0.013 0.005 0.718 0.264]\n"
          ]
        }
      ]
    },
    {
      "cell_type": "code",
      "source": [
        "num_features = 5\n",
        "num_classes = 3\n",
        "num_weights = num_features * num_classes\n",
        "\n",
        "print(num_weights)"
      ],
      "metadata": {
        "colab": {
          "base_uri": "https://localhost:8080/"
        },
        "id": "4cb6m7lJjfgb",
        "outputId": "a0dbfdf0-0b9e-4fff-d989-59b015ad26c9"
      },
      "execution_count": 4,
      "outputs": [
        {
          "output_type": "stream",
          "name": "stdout",
          "text": [
            "15\n"
          ]
        }
      ]
    },
    {
      "cell_type": "code",
      "source": [
        "y_hat_preds = np.array([0, 1, 3, 2, 0, 2, 1, 2])\n",
        "y_true_labels = np.array([0, 0, 3, 2, 1, 2, 2, 1])\n",
        "accuracy = np.mean(y_hat_preds == y_true_labels) * 100\n",
        "accuracy_rounded = round(accuracy, 1)\n",
        "\n",
        "print(accuracy_rounded)"
      ],
      "metadata": {
        "colab": {
          "base_uri": "https://localhost:8080/"
        },
        "id": "c9tinjnLjfnd",
        "outputId": "7ea42e5b-71b4-4222-9c6c-ec7307981cf9"
      },
      "execution_count": 5,
      "outputs": [
        {
          "output_type": "stream",
          "name": "stdout",
          "text": [
            "50.0\n"
          ]
        }
      ]
    }
  ]
}