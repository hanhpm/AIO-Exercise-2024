{
  "nbformat": 4,
  "nbformat_minor": 0,
  "metadata": {
    "colab": {
      "provenance": []
    },
    "kernelspec": {
      "name": "python3",
      "display_name": "Python 3"
    },
    "language_info": {
      "name": "python"
    }
  },
  "cells": [
    {
      "cell_type": "markdown",
      "source": [
        "# Gradient Descent"
      ],
      "metadata": {
        "id": "PZqN1WFKQ2Kz"
      }
    },
    {
      "cell_type": "code",
      "execution_count": 5,
      "metadata": {
        "colab": {
          "base_uri": "https://localhost:8080/"
        },
        "id": "SGV7iUI2NVnp",
        "outputId": "738bb46d-c719-4664-e6b6-e38832448238"
      },
      "outputs": [
        {
          "output_type": "stream",
          "name": "stdout",
          "text": [
            "After Epoch 1: w1 = -1.0, w2 = -0.3999999999999999\n",
            "After Epoch 2: w1 = -0.19999999999999996, w2 = -0.07999999999999996\n"
          ]
        }
      ],
      "source": [
        "# Gradient Descent\n",
        "w1, w2 = -5, -2\n",
        "alpha = 0.4\n",
        "\n",
        "# Epoch 1\n",
        "dw1, dw2 = 2 * w1, 2 * w2\n",
        "w1, w2 = w1 - alpha * dw1, w2 - alpha * dw2\n",
        "print(f\"After Epoch 1: w1 = {w1}, w2 = {w2}\")\n",
        "\n",
        "# Epoch 2\n",
        "dw1, dw2 = 2 * w1, 2 * w2\n",
        "w1, w2 = w1 - alpha * dw1, w2 - alpha * dw2\n",
        "print(f\"After Epoch 2: w1 = {w1}, w2 = {w2}\")"
      ]
    },
    {
      "cell_type": "code",
      "source": [
        "import numpy as np\n",
        "\n",
        "# Parameters\n",
        "W = np.array([-5.0, -2.0])  # Initial weights [w1, w2]\n",
        "alpha = 0.4  # Learning rate\n",
        "epochs = 30\n",
        "\n",
        "# Gradient function\n",
        "def compute_gradient(W):\n",
        "    return 2 * W  # Gradients for f(w1, w2) = w1^2 + w2^2\n",
        "\n",
        "# Gradient Descent loop\n",
        "for epoch in range(epochs):\n",
        "    gradients = compute_gradient(W)\n",
        "    W = W - alpha * gradients  # Update weights\n",
        "    print(f\"Epoch {epoch + 1}: w1 = {W[0]:.4f}, w2 = {W[1]:.4f}\")"
      ],
      "metadata": {
        "colab": {
          "base_uri": "https://localhost:8080/"
        },
        "id": "077ZKMGyUYzf",
        "outputId": "9df1dd48-d677-4787-cad2-f339598ccb9e"
      },
      "execution_count": 6,
      "outputs": [
        {
          "output_type": "stream",
          "name": "stdout",
          "text": [
            "Epoch 1: w1 = -1.0000, w2 = -0.4000\n",
            "Epoch 2: w1 = -0.2000, w2 = -0.0800\n",
            "Epoch 3: w1 = -0.0400, w2 = -0.0160\n",
            "Epoch 4: w1 = -0.0080, w2 = -0.0032\n",
            "Epoch 5: w1 = -0.0016, w2 = -0.0006\n",
            "Epoch 6: w1 = -0.0003, w2 = -0.0001\n",
            "Epoch 7: w1 = -0.0001, w2 = -0.0000\n",
            "Epoch 8: w1 = -0.0000, w2 = -0.0000\n",
            "Epoch 9: w1 = -0.0000, w2 = -0.0000\n",
            "Epoch 10: w1 = -0.0000, w2 = -0.0000\n",
            "Epoch 11: w1 = -0.0000, w2 = -0.0000\n",
            "Epoch 12: w1 = -0.0000, w2 = -0.0000\n",
            "Epoch 13: w1 = -0.0000, w2 = -0.0000\n",
            "Epoch 14: w1 = -0.0000, w2 = -0.0000\n",
            "Epoch 15: w1 = -0.0000, w2 = -0.0000\n",
            "Epoch 16: w1 = -0.0000, w2 = -0.0000\n",
            "Epoch 17: w1 = -0.0000, w2 = -0.0000\n",
            "Epoch 18: w1 = -0.0000, w2 = -0.0000\n",
            "Epoch 19: w1 = -0.0000, w2 = -0.0000\n",
            "Epoch 20: w1 = -0.0000, w2 = -0.0000\n",
            "Epoch 21: w1 = -0.0000, w2 = -0.0000\n",
            "Epoch 22: w1 = -0.0000, w2 = -0.0000\n",
            "Epoch 23: w1 = -0.0000, w2 = -0.0000\n",
            "Epoch 24: w1 = -0.0000, w2 = -0.0000\n",
            "Epoch 25: w1 = -0.0000, w2 = -0.0000\n",
            "Epoch 26: w1 = -0.0000, w2 = -0.0000\n",
            "Epoch 27: w1 = -0.0000, w2 = -0.0000\n",
            "Epoch 28: w1 = -0.0000, w2 = -0.0000\n",
            "Epoch 29: w1 = -0.0000, w2 = -0.0000\n",
            "Epoch 30: w1 = -0.0000, w2 = -0.0000\n"
          ]
        }
      ]
    },
    {
      "cell_type": "markdown",
      "source": [
        "# Gradient Descent with Momentum"
      ],
      "metadata": {
        "id": "TjqMQk-0Q5sa"
      }
    },
    {
      "cell_type": "code",
      "source": [
        "w1, w2, v1, v2 = -5, -2, 0, 0\n",
        "alpha, beta = 0.4, 0.5\n",
        "\n",
        "# Epoch 1\n",
        "dw1, dw2 = 2 * w1, 2 * w2\n",
        "v1, v2 = beta * v1 + (1 - beta) * dw1, beta * v2 + (1 - beta) * dw2\n",
        "w1, w2 = w1 - alpha * v1, w2 - alpha * v2\n",
        "print(f\"After Epoch 1: w1 = {w1}, w2 = {w2}\")\n",
        "\n",
        "# Epoch 2\n",
        "dw1, dw2 = 2 * w1, 2 * w2\n",
        "v1, v2 = beta * v1 + (1 - beta) * dw1, beta * v2 + (1 - beta) * dw2\n",
        "w1, w2 = w1 - alpha * v1, w2 - alpha * v2\n",
        "print(f\"After Epoch 2: w1 = {w1}, w2 = {w2}\")"
      ],
      "metadata": {
        "colab": {
          "base_uri": "https://localhost:8080/"
        },
        "id": "FeHovcd8Q_gZ",
        "outputId": "696a96f6-396d-4dc2-cd02-b824bd0e5eec"
      },
      "execution_count": 7,
      "outputs": [
        {
          "output_type": "stream",
          "name": "stdout",
          "text": [
            "After Epoch 1: w1 = -3.0, w2 = -1.2\n",
            "After Epoch 2: w1 = -0.7999999999999998, w2 = -0.31999999999999984\n"
          ]
        }
      ]
    },
    {
      "cell_type": "code",
      "source": [
        "import numpy as np\n",
        "\n",
        "# Parameters\n",
        "W = np.array([-5.0, -2.0])  # Initial weights [w1, w2]\n",
        "V = np.array([0.0, 0.0])    # Initial velocity [v1, v2]\n",
        "alpha = 0.4  # Learning rate\n",
        "beta = 0.5   # Momentum factor\n",
        "epochs = 30\n",
        "\n",
        "# Gradient function\n",
        "def compute_gradient(W):\n",
        "    return 2 * W  # Gradients for f(w1, w2) = w1^2 + w2^2\n",
        "\n",
        "# Gradient Descent + Momentum loop\n",
        "for epoch in range(epochs):\n",
        "    gradients = compute_gradient(W)\n",
        "    V = beta * V + (1 - beta) * gradients  # Update velocity\n",
        "    W = W - alpha * V  # Update weights\n",
        "    print(f\"Epoch {epoch + 1}: w1 = {W[0]:.4f}, w2 = {W[1]:.4f}\")"
      ],
      "metadata": {
        "colab": {
          "base_uri": "https://localhost:8080/"
        },
        "id": "iDxbuDNnUZMK",
        "outputId": "3adc34d8-8dbb-4326-f531-193c2ab13523"
      },
      "execution_count": 8,
      "outputs": [
        {
          "output_type": "stream",
          "name": "stdout",
          "text": [
            "Epoch 1: w1 = -3.0000, w2 = -1.2000\n",
            "Epoch 2: w1 = -0.8000, w2 = -0.3200\n",
            "Epoch 3: w1 = 0.6200, w2 = 0.2480\n",
            "Epoch 4: w1 = 1.0820, w2 = 0.4328\n",
            "Epoch 5: w1 = 0.8802, w2 = 0.3521\n",
            "Epoch 6: w1 = 0.4272, w2 = 0.1709\n",
            "Epoch 7: w1 = 0.0298, w2 = 0.0119\n",
            "Epoch 8: w1 = -0.1808, w2 = -0.0723\n",
            "Epoch 9: w1 = -0.2138, w2 = -0.0855\n",
            "Epoch 10: w1 = -0.1448, w2 = -0.0579\n",
            "Epoch 11: w1 = -0.0524, w2 = -0.0209\n",
            "Epoch 12: w1 = 0.0148, w2 = 0.0059\n",
            "Epoch 13: w1 = 0.0425, w2 = 0.0170\n",
            "Epoch 14: w1 = 0.0393, w2 = 0.0157\n",
            "Epoch 15: w1 = 0.0220, w2 = 0.0088\n",
            "Epoch 16: w1 = 0.0046, w2 = 0.0018\n",
            "Epoch 17: w1 = -0.0060, w2 = -0.0024\n",
            "Epoch 18: w1 = -0.0089, w2 = -0.0035\n",
            "Epoch 19: w1 = -0.0068, w2 = -0.0027\n",
            "Epoch 20: w1 = -0.0030, w2 = -0.0012\n",
            "Epoch 21: w1 = 0.0001, w2 = 0.0000\n",
            "Epoch 22: w1 = 0.0016, w2 = 0.0006\n",
            "Epoch 23: w1 = 0.0017, w2 = 0.0007\n",
            "Epoch 24: w1 = 0.0011, w2 = 0.0004\n",
            "Epoch 25: w1 = 0.0003, w2 = 0.0001\n",
            "Epoch 26: w1 = -0.0002, w2 = -0.0001\n",
            "Epoch 27: w1 = -0.0004, w2 = -0.0001\n",
            "Epoch 28: w1 = -0.0003, w2 = -0.0001\n",
            "Epoch 29: w1 = -0.0002, w2 = -0.0001\n",
            "Epoch 30: w1 = -0.0000, w2 = -0.0000\n"
          ]
        }
      ]
    },
    {
      "cell_type": "markdown",
      "source": [
        "# RMSProp\n",
        "\n"
      ],
      "metadata": {
        "id": "DL8z6BYjQ-00"
      }
    },
    {
      "cell_type": "code",
      "source": [
        "w1, w2, s1, s2 = -5, -2, 0, 0\n",
        "alpha, gamma, epsilon = 0.4, 0.9, 1e-6\n",
        "\n",
        "# Epoch 1\n",
        "dw1, dw2 = 2 * w1, 2 * w2\n",
        "s1, s2 = gamma * s1 + (1 - gamma) * dw1**2, gamma * s2 + (1 - gamma) * dw2**2\n",
        "w1 -= (alpha / (s1**0.5 + epsilon)) * dw1\n",
        "w2 -= (alpha / (s2**0.5 + epsilon)) * dw2\n",
        "print(f\"After Epoch 1: w1 = {w1}, w2 = {w2}\")\n",
        "\n",
        "# Epoch 2\n",
        "dw1, dw2 = 2 * w1, 2 * w2\n",
        "s1, s2 = gamma * s1 + (1 - gamma) * dw1**2, gamma * s2 + (1 - gamma) * dw2**2\n",
        "w1 -= (alpha / (s1**0.5 + epsilon)) * dw1\n",
        "w2 -= (alpha / (s2**0.5 + epsilon)) * dw2\n",
        "print(f\"After Epoch 2: w1 = {w1}, w2 = {w2}\")"
      ],
      "metadata": {
        "colab": {
          "base_uri": "https://localhost:8080/"
        },
        "id": "EKtzhrulRDQQ",
        "outputId": "7a2d74b7-5274-4658-9116-c6e322eca1e6"
      },
      "execution_count": 9,
      "outputs": [
        {
          "output_type": "stream",
          "name": "stdout",
          "text": [
            "After Epoch 1: w1 = -3.7350893359325217, w2 = -0.7350899359318575\n",
            "After Epoch 2: w1 = -2.952548898098088, w2 = -0.2781267383140031\n"
          ]
        }
      ]
    },
    {
      "cell_type": "code",
      "source": [
        "import numpy as np\n",
        "\n",
        "# Parameters\n",
        "W = np.array([-5.0, -2.0])  # Initial weights [w1, w2]\n",
        "S = np.array([0.0, 0.0])    # Initial moving average of squared gradients\n",
        "alpha = 0.4  # Learning rate\n",
        "gamma = 0.9  # Decay rate\n",
        "epsilon = 1e-6  # Small constant to prevent division by zero\n",
        "epochs = 30\n",
        "\n",
        "# Gradient function\n",
        "def compute_gradient(W):\n",
        "    return 2 * W  # Gradients for f(w1, w2) = w1^2 + w2^2\n",
        "\n",
        "# RMSProp loop\n",
        "for epoch in range(epochs):\n",
        "    gradients = compute_gradient(W)\n",
        "    S = gamma * S + (1 - gamma) * (gradients ** 2)  # Update moving average\n",
        "    W = W - (alpha / (np.sqrt(S) + epsilon)) * gradients  # Update weights\n",
        "    print(f\"Epoch {epoch + 1}: w1 = {W[0]:.4f}, w2 = {W[1]:.4f}\")"
      ],
      "metadata": {
        "colab": {
          "base_uri": "https://localhost:8080/"
        },
        "id": "JQKSvYnjUZna",
        "outputId": "af1e1d23-1ef9-48c9-ba20-efea0f85e145"
      },
      "execution_count": 10,
      "outputs": [
        {
          "output_type": "stream",
          "name": "stdout",
          "text": [
            "Epoch 1: w1 = -3.7351, w2 = -0.7351\n",
            "Epoch 2: w1 = -2.9525, w2 = -0.2781\n",
            "Epoch 3: w1 = -2.3730, w2 = -0.0977\n",
            "Epoch 4: w1 = -1.9152, w2 = -0.0310\n",
            "Epoch 5: w1 = -1.5431, w2 = -0.0087\n",
            "Epoch 6: w1 = -1.2364, w2 = -0.0021\n",
            "Epoch 7: w1 = -0.9827, w2 = -0.0004\n",
            "Epoch 8: w1 = -0.7730, w2 = -0.0001\n",
            "Epoch 9: w1 = -0.6008, w2 = -0.0000\n",
            "Epoch 10: w1 = -0.4606, w2 = -0.0000\n",
            "Epoch 11: w1 = -0.3478, w2 = -0.0000\n",
            "Epoch 12: w1 = -0.2582, w2 = 0.0000\n",
            "Epoch 13: w1 = -0.1882, w2 = -0.0000\n",
            "Epoch 14: w1 = -0.1344, w2 = 0.0000\n",
            "Epoch 15: w1 = -0.0940, w2 = -0.0000\n",
            "Epoch 16: w1 = -0.0642, w2 = 0.0000\n",
            "Epoch 17: w1 = -0.0427, w2 = -0.0000\n",
            "Epoch 18: w1 = -0.0277, w2 = 0.0000\n",
            "Epoch 19: w1 = -0.0174, w2 = -0.0000\n",
            "Epoch 20: w1 = -0.0106, w2 = 0.0000\n",
            "Epoch 21: w1 = -0.0062, w2 = -0.0000\n",
            "Epoch 22: w1 = -0.0035, w2 = 0.0000\n",
            "Epoch 23: w1 = -0.0019, w2 = -0.0000\n",
            "Epoch 24: w1 = -0.0010, w2 = 0.0000\n",
            "Epoch 25: w1 = -0.0005, w2 = -0.0000\n",
            "Epoch 26: w1 = -0.0002, w2 = 0.0000\n",
            "Epoch 27: w1 = -0.0001, w2 = -0.0000\n",
            "Epoch 28: w1 = -0.0000, w2 = 0.0000\n",
            "Epoch 29: w1 = -0.0000, w2 = -0.0000\n",
            "Epoch 30: w1 = -0.0000, w2 = 0.0000\n"
          ]
        }
      ]
    },
    {
      "cell_type": "markdown",
      "source": [
        "# Adam"
      ],
      "metadata": {
        "id": "JZM4eOI-RDeE"
      }
    },
    {
      "cell_type": "code",
      "source": [
        "w1, w2, v1, v2, s1, s2 = -5, -2, 0, 0, 0, 0\n",
        "alpha, beta1, beta2, epsilon = 0.4, 0.9, 0.999, 1e-6\n",
        "\n",
        "# Epoch 1\n",
        "dw1, dw2 = 2 * w1, 2 * w2\n",
        "v1, v2 = beta1 * v1 + (1 - beta1) * dw1, beta1 * v2 + (1 - beta1) * dw2\n",
        "s1, s2 = beta2 * s1 + (1 - beta2) * dw1**2, beta2 * s2 + (1 - beta2) * dw2**2\n",
        "v1_corr, v2_corr = v1 / (1 - beta1), v2 / (1 - beta1)\n",
        "s1_corr, s2_corr = s1 / (1 - beta2), s2 / (1 - beta2)\n",
        "w1 -= (alpha / (s1_corr**0.5 + epsilon)) * v1_corr\n",
        "w2 -= (alpha / (s2_corr**0.5 + epsilon)) * v2_corr\n",
        "print(f\"After Epoch 1: w1 = {w1}, w2 = {w2}\")\n",
        "\n",
        "# Epoch 2\n",
        "dw1, dw2 = 2 * w1, 2 * w2\n",
        "v1, v2 = beta1 * v1 + (1 - beta1) * dw1, beta1 * v2 + (1 - beta1) * dw2\n",
        "s1, s2 = beta2 * s1 + (1 - beta2) * dw1**2, beta2 * s2 + (1 - beta2) * dw2**2\n",
        "v1_corr, v2_corr = v1 / (1 - beta1**2), v2 / (1 - beta1**2)\n",
        "s1_corr, s2_corr = s1 / (1 - beta2**2), s2 / (1 - beta2**2)\n",
        "w1 -= (alpha / (s1_corr**0.5 + epsilon)) * v1_corr\n",
        "w2 -= (alpha / (s2_corr**0.5 + epsilon)) * v2_corr\n",
        "print(f\"After Epoch 2: w1 = {w1}, w2 = {w2}\")"
      ],
      "metadata": {
        "colab": {
          "base_uri": "https://localhost:8080/"
        },
        "id": "0K6df0MDRQ-X",
        "outputId": "0bbc186a-6ff8-4e34-8e63-41522d7de43a"
      },
      "execution_count": 11,
      "outputs": [
        {
          "output_type": "stream",
          "name": "stdout",
          "text": [
            "After Epoch 1: w1 = -4.600000039999996, w2 = -1.600000099999975\n",
            "After Epoch 2: w1 = -4.201214986766479, w2 = -1.204749885498073\n"
          ]
        }
      ]
    },
    {
      "cell_type": "code",
      "source": [
        "import numpy as np\n",
        "\n",
        "# Parameters\n",
        "W = np.array([-5.0, -2.0])  # Initial weights [w1, w2]\n",
        "V = np.array([0.0, 0.0])    # Initial first moment\n",
        "S = np.array([0.0, 0.0])    # Initial second moment\n",
        "alpha = 0.4  # Learning rate\n",
        "beta1 = 0.9  # First moment decay rate\n",
        "beta2 = 0.999  # Second moment decay rate\n",
        "epsilon = 1e-6  # Small constant to prevent division by zero\n",
        "epochs = 30\n",
        "\n",
        "# Gradient function\n",
        "def compute_gradient(W):\n",
        "    return 2 * W  # Gradients for f(w1, w2) = w1^2 + w2^2\n",
        "\n",
        "# Adam loop\n",
        "for epoch in range(1, epochs + 1):\n",
        "    gradients = compute_gradient(W)\n",
        "    V = beta1 * V + (1 - beta1) * gradients  # Update biased first moment\n",
        "    S = beta2 * S + (1 - beta2) * (gradients ** 2)  # Update biased second moment\n",
        "    V_corr = V / (1 - beta1 ** epoch)  # Bias correction for first moment\n",
        "    S_corr = S / (1 - beta2 ** epoch)  # Bias correction for second moment\n",
        "    W = W - (alpha / (np.sqrt(S_corr) + epsilon)) * V_corr  # Update weights\n",
        "    print(f\"Epoch {epoch}: w1 = {W[0]:.4f}, w2 = {W[1]:.4f}\")"
      ],
      "metadata": {
        "colab": {
          "base_uri": "https://localhost:8080/"
        },
        "id": "C-u5THmiUaIQ",
        "outputId": "f27942c8-4a2d-4ce0-9af3-80a4979b1f3b"
      },
      "execution_count": 12,
      "outputs": [
        {
          "output_type": "stream",
          "name": "stdout",
          "text": [
            "Epoch 1: w1 = -4.6000, w2 = -1.6000\n",
            "Epoch 2: w1 = -4.2012, w2 = -1.2047\n",
            "Epoch 3: w1 = -3.8046, w2 = -0.8195\n",
            "Epoch 4: w1 = -3.4113, w2 = -0.4517\n",
            "Epoch 5: w1 = -3.0227, w2 = -0.1113\n",
            "Epoch 6: w1 = -2.6400, w2 = 0.1897\n",
            "Epoch 7: w1 = -2.2650, w2 = 0.4392\n",
            "Epoch 8: w1 = -1.8995, w2 = 0.6278\n",
            "Epoch 9: w1 = -1.5454, w2 = 0.7518\n",
            "Epoch 10: w1 = -1.2049, w2 = 0.8133\n",
            "Epoch 11: w1 = -0.8802, w2 = 0.8186\n",
            "Epoch 12: w1 = -0.5737, w2 = 0.7765\n",
            "Epoch 13: w1 = -0.2876, w2 = 0.6960\n",
            "Epoch 14: w1 = -0.0241, w2 = 0.5866\n",
            "Epoch 15: w1 = 0.2148, w2 = 0.4569\n",
            "Epoch 16: w1 = 0.4274, w2 = 0.3154\n",
            "Epoch 17: w1 = 0.6124, w2 = 0.1704\n",
            "Epoch 18: w1 = 0.7690, w2 = 0.0294\n",
            "Epoch 19: w1 = 0.8968, w2 = -0.1004\n",
            "Epoch 20: w1 = 0.9960, w2 = -0.2127\n",
            "Epoch 21: w1 = 1.0674, w2 = -0.3027\n",
            "Epoch 22: w1 = 1.1120, w2 = -0.3670\n",
            "Epoch 23: w1 = 1.1314, w2 = -0.4041\n",
            "Epoch 24: w1 = 1.1275, w2 = -0.4143\n",
            "Epoch 25: w1 = 1.1024, w2 = -0.3995\n",
            "Epoch 26: w1 = 1.0583, w2 = -0.3626\n",
            "Epoch 27: w1 = 0.9978, w2 = -0.3078\n",
            "Epoch 28: w1 = 0.9234, w2 = -0.2397\n",
            "Epoch 29: w1 = 0.8375, w2 = -0.1634\n",
            "Epoch 30: w1 = 0.7427, w2 = -0.0840\n"
          ]
        }
      ]
    }
  ]
}