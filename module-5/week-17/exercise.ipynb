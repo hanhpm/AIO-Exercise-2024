{
  "nbformat": 4,
  "nbformat_minor": 0,
  "metadata": {
    "colab": {
      "provenance": []
    },
    "kernelspec": {
      "name": "python3",
      "display_name": "Python 3"
    },
    "language_info": {
      "name": "python"
    }
  },
  "cells": [
    {
      "cell_type": "code",
      "execution_count": 4,
      "metadata": {
        "colab": {
          "base_uri": "https://localhost:8080/"
        },
        "id": "6BEj0AcWN8b6",
        "outputId": "19fa7b95-7b4f-4004-f627-5e3d140df4f4"
      },
      "outputs": [
        {
          "output_type": "execute_result",
          "data": {
            "text/plain": [
              "array([0.92988994])"
            ]
          },
          "metadata": {},
          "execution_count": 4
        }
      ],
      "source": [
        "import numpy as np\n",
        "\n",
        "X = [[22.3,-1.5, 1.1, 1]]\n",
        "theta = [0.1,-0.15, 0.3,-0.2]\n",
        "\n",
        "def predict(X, theta):\n",
        "  z = np.dot(X, theta)\n",
        "  return 1 / (1 + np.exp(-z))\n",
        "\n",
        "prediction = predict(X, theta)\n",
        "prediction"
      ]
    },
    {
      "cell_type": "code",
      "source": [
        "y = np.array([1, 0, 0, 1])\n",
        "y_hat = np.array([0.8, 0.75, 0.3,0.95])\n",
        "\n",
        "def compute_loss(y_hat, y):\n",
        "  y_hat = np.clip(y_hat, 1e-7, 1- 1e-7)\n",
        "  return (-y * np.log(y_hat)- (1- y) * np.log(1- y_hat)).mean()\n",
        "\n",
        "loss = compute_loss(y_hat, y)\n",
        "loss"
      ],
      "metadata": {
        "colab": {
          "base_uri": "https://localhost:8080/"
        },
        "id": "RLAIbgImOTUy",
        "outputId": "5ef9c7cf-90f0-497a-9c25-a678ccce6ac3"
      },
      "execution_count": 5,
      "outputs": [
        {
          "output_type": "execute_result",
          "data": {
            "text/plain": [
              "0.5043515376900958"
            ]
          },
          "metadata": {},
          "execution_count": 5
        }
      ]
    },
    {
      "cell_type": "code",
      "source": [
        "X = np.array([[1, 2], [2, 1], [1, 1], [2, 2]])\n",
        "y_true = np.array([0, 1, 0, 1])\n",
        "y_pred = np.array([0.25, 0.75, 0.4, 0.8])\n",
        "\n",
        "def compute_gradient(X, y_true, y_pred):\n",
        "    gradient = np.dot(X.T, (y_pred - y_true)) / y_true.size\n",
        "    return gradient\n",
        "\n",
        "gradient = compute_gradient(X, y_true, y_pred)\n",
        "gradient"
      ],
      "metadata": {
        "colab": {
          "base_uri": "https://localhost:8080/"
        },
        "id": "sYajrfHvPeI5",
        "outputId": "c14ef384-d262-4328-816d-9b6a184e715b"
      },
      "execution_count": 9,
      "outputs": [
        {
          "output_type": "execute_result",
          "data": {
            "text/plain": [
              "array([-0.0625,  0.0625])"
            ]
          },
          "metadata": {},
          "execution_count": 9
        }
      ]
    },
    {
      "cell_type": "code",
      "source": [
        "def compute_accuracy(y_true, y_pred):\n",
        "    y_pred_rounded = np.round(y_pred)\n",
        "    accuracy = np.mean(y_true == y_pred_rounded)\n",
        "    return accuracy\n",
        "\n",
        "y_true_accuracy = np.array([1, 0, 1, 1])\n",
        "y_pred_accuracy = np.array([0.85, 0.35, 0.9, 0.75])\n",
        "accuracy_result = compute_accuracy(y_true_accuracy, y_pred_accuracy)\n",
        "\n",
        "accuracy_result"
      ],
      "metadata": {
        "colab": {
          "base_uri": "https://localhost:8080/"
        },
        "id": "Qaf1i0e1QkoJ",
        "outputId": "514b32b8-1aa4-4299-a95d-b8680f51d744"
      },
      "execution_count": 10,
      "outputs": [
        {
          "output_type": "execute_result",
          "data": {
            "text/plain": [
              "1.0"
            ]
          },
          "metadata": {},
          "execution_count": 10
        }
      ]
    },
    {
      "cell_type": "code",
      "source": [
        "def compute_gradient(X, y_true, y_pred):\n",
        "    gradient = np.dot(X.T, (y_pred - y_true)) / y_true.size\n",
        "    return gradient\n",
        "\n",
        "X_gradient = np.array([[1, 3], [2, 1], [3, 2], [1, 2]])\n",
        "y_true_gradient = np.array([1, 0, 1, 1])\n",
        "y_pred_gradient = np.array([0.7, 0.4, 0.6, 0.85])\n",
        "gradient_result = compute_gradient(X_gradient,\n",
        "                                   y_true_gradient,\n",
        "                                   y_pred_gradient)\n",
        "\n",
        "gradient_result"
      ],
      "metadata": {
        "colab": {
          "base_uri": "https://localhost:8080/"
        },
        "id": "LkGWZYpXQkry",
        "outputId": "0732535b-bf9a-4f34-fa04-b0e2674f4c1e"
      },
      "execution_count": 11,
      "outputs": [
        {
          "output_type": "execute_result",
          "data": {
            "text/plain": [
              "array([-0.2125, -0.4   ])"
            ]
          },
          "metadata": {},
          "execution_count": 11
        }
      ]
    }
  ]
}