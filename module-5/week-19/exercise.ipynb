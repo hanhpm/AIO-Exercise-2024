{
  "nbformat": 4,
  "nbformat_minor": 0,
  "metadata": {
    "colab": {
      "provenance": []
    },
    "kernelspec": {
      "name": "python3",
      "display_name": "Python 3"
    },
    "language_info": {
      "name": "python"
    }
  },
  "cells": [
    {
      "cell_type": "code",
      "execution_count": 4,
      "metadata": {
        "colab": {
          "base_uri": "https://localhost:8080/"
        },
        "id": "p2_Rs1cBnVw5",
        "outputId": "ad1414cc-cfd5-4967-e84e-f67f63a75ad2"
      },
      "outputs": [
        {
          "output_type": "stream",
          "name": "stdout",
          "text": [
            "Output: 0.827 -> Loại 1\n"
          ]
        }
      ],
      "source": [
        "# Cau 6\n",
        "import numpy as np\n",
        "\n",
        "# Input value\n",
        "x = np.array([5.1])  # Chiều dài cánh hoa\n",
        "\n",
        "# Hidden layer parameters\n",
        "w_hidden = np.array([[0.5, -0.5]])  # Trọng số của hidden layer (shape: 1 x 2)\n",
        "b_hidden = np.array([1, -1])        # Bias của hidden layer (shape: 2,)\n",
        "\n",
        "# Output layer parameters\n",
        "w_output = np.array([0.3, -0.2])  # Trọng số của output layer (shape: 2,)\n",
        "b_output = 0.5                    # Bias của output layer (scalar)\n",
        "\n",
        "# Activation functions\n",
        "def relu(z):\n",
        "    return np.maximum(0, z)\n",
        "\n",
        "def sigmoid(z):\n",
        "    return 1 / (1 + np.exp(-z))\n",
        "\n",
        "# Forward pass\n",
        "# Hidden layer\n",
        "z_hidden = np.dot(x, w_hidden) + b_hidden  # Input (1,) * Weight (1 x 2) + Bias (2,)\n",
        "a_hidden = relu(z_hidden)  # Apply ReLU activation\n",
        "\n",
        "# Output layer\n",
        "z_output = np.dot(a_hidden, w_output) + b_output  # Hidden (2,) * Weight (2,) + Bias (scalar)\n",
        "a_output = sigmoid(z_output)  # Apply Sigmoid activation\n",
        "\n",
        "# Classification\n",
        "if a_output > 0.5:\n",
        "    print(f\"Output: {a_output:.3f} -> Loại 1\")\n",
        "else:\n",
        "    print(f\"Output: {a_output:.3f} -> Loại 0\")"
      ]
    },
    {
      "cell_type": "code",
      "source": [
        "# Cau 7\n",
        "import numpy as np\n",
        "\n",
        "# Input value (diện tích)\n",
        "x = np.array([50])  # Diện tích nhà\n",
        "\n",
        "# Hidden layer parameters\n",
        "w_hidden = np.array([[0.5, -0.5]])  # Trọng số của hidden layer (shape: 1 x 2)\n",
        "b_hidden = np.array([1, -1])        # Bias của hidden layer (shape: 2)\n",
        "\n",
        "# Output layer parameters\n",
        "w_output = np.array([1.5, 2])  # Trọng số của output layer (shape: 2)\n",
        "b_output = 0                   # Bias của output layer\n",
        "\n",
        "# Activation functions\n",
        "def relu(z):\n",
        "    return np.maximum(0, z)\n",
        "\n",
        "# Forward pass\n",
        "# Hidden layer\n",
        "z_hidden = np.dot(x, w_hidden) + b_hidden  # Input (1,) -> Weight (1 x 2) -> Output (2,)\n",
        "a_hidden = relu(z_hidden)  # Apply ReLU activation\n",
        "\n",
        "# Output layer\n",
        "z_output = np.dot(a_hidden, w_output) + b_output  # Input (2,) -> Weight (2,) -> Output (scalar)\n",
        "a_output = z_output  # Linear output (no activation for regression)\n",
        "\n",
        "# Print prediction\n",
        "print(f\"Dự đoán giá nhà: {a_output:.2f}\")"
      ],
      "metadata": {
        "colab": {
          "base_uri": "https://localhost:8080/"
        },
        "id": "LoDBBfQHnoMY",
        "outputId": "d0661678-adb5-42f3-8ff2-fe4b144f3be6"
      },
      "execution_count": 5,
      "outputs": [
        {
          "output_type": "stream",
          "name": "stdout",
          "text": [
            "Dự đoán giá nhà: 39.00\n"
          ]
        }
      ]
    }
  ]
}