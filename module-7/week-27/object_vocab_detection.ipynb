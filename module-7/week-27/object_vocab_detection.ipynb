{
  "nbformat": 4,
  "nbformat_minor": 0,
  "metadata": {
    "colab": {
      "provenance": []
    },
    "kernelspec": {
      "name": "python3",
      "display_name": "Python 3"
    },
    "language_info": {
      "name": "python"
    }
  },
  "cells": [
    {
      "cell_type": "code",
      "execution_count": null,
      "metadata": {
        "id": "CMX_xK3VqBDc"
      },
      "outputs": [],
      "source": [
        "%pip install ultralytics"
      ]
    },
    {
      "cell_type": "code",
      "source": [
        "from ultralytics import YOLOWorld\n",
        "from ultralytics.engine.results import Boxes\n",
        "from src.utils import save_detection_results"
      ],
      "metadata": {
        "id": "OJzRbb5NqK0y"
      },
      "execution_count": null,
      "outputs": []
    },
    {
      "cell_type": "code",
      "source": [
        "# Initialize a YOLO-World model\n",
        "model = YOLOWorld(\"yolov8s-world.pt\")"
      ],
      "metadata": {
        "id": "Mv0etNDYqKxN"
      },
      "execution_count": null,
      "outputs": []
    },
    {
      "cell_type": "code",
      "source": [
        "# Define custom classes\n",
        "model.set_classes([\"bus\"])  # Change this to the class you want to detect\n",
        "\n",
        "# Execute prediction on an image\n",
        "results: Boxes = model.predict(\"samples/bus.jpg\")\n",
        "\n",
        "# Save detection results as images\n",
        "save_detection_results(results)\n",
        "\n",
        "# Run the script\n",
        "# Execute the script in the terminal or command line\n",
        "# python your_open_vocab_detection_script.py"
      ],
      "metadata": {
        "id": "orZqu8hiqKuF"
      },
      "execution_count": null,
      "outputs": []
    }
  ]
}